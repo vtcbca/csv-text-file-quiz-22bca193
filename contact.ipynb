{
 "cells": [
  {
   "cell_type": "code",
   "execution_count": 1,
   "id": "780d6f7b",
   "metadata": {},
   "outputs": [],
   "source": [
    "import csv\n"
   ]
  },
  {
   "cell_type": "code",
   "execution_count": 2,
   "id": "cb1759af",
   "metadata": {},
   "outputs": [],
   "source": [
    "a=['name','contact']"
   ]
  },
  {
   "cell_type": "code",
   "execution_count": 3,
   "id": "6d9b48a2",
   "metadata": {},
   "outputs": [],
   "source": [
    "records=[['neel',98745612310],\n",
    "         ['charvin',7894561237],\n",
    "         ['shiv',8523697419],\n",
    "         ['om',9123654789],\n",
    "         ['meet',8596321478]\n",
    "        ]\n",
    "p=[]"
   ]
  },
  {
   "cell_type": "code",
   "execution_count": 4,
   "id": "5081ea51",
   "metadata": {},
   "outputs": [
    {
     "name": "stdout",
     "output_type": "stream",
     "text": [
      "ENTER THE NAME:dev\n",
      "ENTER THE CONTACT:9362584172\n",
      "ENTER THE NAME:bhavik\n",
      "ENTER THE CONTACT:8524631972\n",
      "ENTER THE NAME:ved\n",
      "ENTER THE CONTACT:7985426319\n",
      "ENTER THE NAME:raj\n",
      "ENTER THE CONTACT:8596314259\n",
      "ENTER THE NAME:jenil\n",
      "ENTER THE CONTACT:9654871237\n"
     ]
    }
   ],
   "source": [
    "for i in range(5):\n",
    "    name=input(\"ENTER THE NAME:\")\n",
    "    contact=int(input(\"ENTER THE CONTACT:\"))\n",
    "    l=[name,contact]\n",
    "    p.append(l)"
   ]
  },
  {
   "cell_type": "code",
   "execution_count": 5,
   "id": "35b236a5",
   "metadata": {},
   "outputs": [],
   "source": [
    "with open('C:\\sqlite3\\contact.csv','w',newline='') as f:\n",
    "    file=csv.writer(f)\n",
    "    file.writerow(a)\n",
    "    file.writerows(records)\n",
    "    file.writerows(p)"
   ]
  },
  {
   "cell_type": "code",
   "execution_count": 6,
   "id": "1e80c0e7",
   "metadata": {},
   "outputs": [
    {
     "name": "stdout",
     "output_type": "stream",
     "text": [
      "['name', 'contact']\n",
      "['neel', '98745612310']\n",
      "['charvin', '7894561237']\n",
      "['shiv', '8523697419']\n",
      "['om', '9123654789']\n",
      "['meet', '8596321478']\n",
      "['dev', '9362584172']\n",
      "['bhavik', '8524631972']\n",
      "['ved', '7985426319']\n",
      "['raj', '8596314259']\n",
      "['jenil', '9654871237']\n"
     ]
    }
   ],
   "source": [
    "with open('C:\\sqlite3\\contact.csv','r',newline='') as read:\n",
    "    all_record=csv.reader(read)\n",
    "    for records in all_record:\n",
    "        print(records)"
   ]
  },
  {
   "cell_type": "code",
   "execution_count": null,
   "id": "b88bb73c",
   "metadata": {},
   "outputs": [],
   "source": []
  }
 ],
 "metadata": {
  "kernelspec": {
   "display_name": "Python 3 (ipykernel)",
   "language": "python",
   "name": "python3"
  },
  "language_info": {
   "codemirror_mode": {
    "name": "ipython",
    "version": 3
   },
   "file_extension": ".py",
   "mimetype": "text/x-python",
   "name": "python",
   "nbconvert_exporter": "python",
   "pygments_lexer": "ipython3",
   "version": "3.11.4"
  }
 },
 "nbformat": 4,
 "nbformat_minor": 5
}
